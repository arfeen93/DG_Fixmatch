{
 "cells": [
  {
   "cell_type": "code",
   "execution_count": 1,
   "metadata": {},
   "outputs": [
    {
     "name": "stdout",
     "output_type": "stream",
     "text": [
      "Requirement already satisfied: scikit-learn-extra in /home/arfeen/anaconda3/lib/python3.8/site-packages (0.1.0b2)\n",
      "Requirement already satisfied: scipy>=0.19.1 in /home/arfeen/anaconda3/lib/python3.8/site-packages (from scikit-learn-extra) (1.5.0)\n",
      "Requirement already satisfied: numpy>=1.13.3 in /home/arfeen/anaconda3/lib/python3.8/site-packages (from scikit-learn-extra) (1.18.5)\n",
      "Requirement already satisfied: scikit-learn>=0.21.0 in /home/arfeen/anaconda3/lib/python3.8/site-packages (from scikit-learn-extra) (0.23.1)\n",
      "Requirement already satisfied: threadpoolctl>=2.0.0 in /home/arfeen/anaconda3/lib/python3.8/site-packages (from scikit-learn>=0.21.0->scikit-learn-extra) (2.1.0)\n",
      "Requirement already satisfied: joblib>=0.11 in /home/arfeen/anaconda3/lib/python3.8/site-packages (from scikit-learn>=0.21.0->scikit-learn-extra) (0.16.0)\n"
     ]
    }
   ],
   "source": [
    "!pip install scikit-learn-extra"
   ]
  },
  {
   "cell_type": "markdown",
   "metadata": {},
   "source": [
    "## Code to pick initial samples using KMedoids and Random"
   ]
  },
  {
   "cell_type": "code",
   "execution_count": 2,
   "metadata": {},
   "outputs": [],
   "source": [
    "import sys\n",
    "sys.path.append('../')"
   ]
  },
  {
   "cell_type": "code",
   "execution_count": 3,
   "metadata": {},
   "outputs": [],
   "source": [
    "import torch\n",
    "import torch.nn as nn\n",
    "import numpy as np\n",
    "from sklearn_extra.cluster import KMedoids\n",
    "\n",
    "import os\n",
    "import random"
   ]
  },
  {
   "cell_type": "code",
   "execution_count": 4,
   "metadata": {},
   "outputs": [],
   "source": [
    "device = torch.device(\"cuda:\" + str(0) if torch.cuda.is_available() else \"cpu\")"
   ]
  },
  {
   "cell_type": "code",
   "execution_count": 5,
   "metadata": {},
   "outputs": [],
   "source": [
    "from dataloader.dataloader import random_split_dataloader\n",
    "from util.util import *\n",
    "from copy import deepcopy"
   ]
  },
  {
   "cell_type": "code",
   "execution_count": 6,
   "metadata": {},
   "outputs": [],
   "source": [
    "def split_domain(domains, split_idx, print_domain=True):\n",
    "    source_domain = deepcopy(domains)\n",
    "    target_domain = [source_domain.pop(split_idx)]\n",
    "    if print_domain:\n",
    "        print('Source domain: ', end='')\n",
    "        for domain in source_domain:\n",
    "            print(domain, end=', ')\n",
    "        print('Target domain: ', end='')\n",
    "        for domain in target_domain:\n",
    "            print(domain)\n",
    "    return source_domain, target_domain\n",
    "    \n",
    "domain_map = {\n",
    "    'PACS': ['photo', 'art_painting', 'cartoon', 'sketch'],\n",
    "    'PACS_random_split': ['photo', 'art_painting', 'cartoon', 'sketch'],\n",
    "    'OfficeHome': ['Art', 'Clipart', 'Product', 'RealWorld'],\n",
    "    'VLCS': ['Caltech', 'Labelme', 'Pascal', 'Sun']\n",
    "}\n",
    "\n",
    "def get_domain(name):\n",
    "    if name not in domain_map:\n",
    "        raise ValueError('Name of dataset unknown %s' %name)\n",
    "    return domain_map[name]"
   ]
  },
  {
   "cell_type": "code",
   "execution_count": 18,
   "metadata": {},
   "outputs": [],
   "source": [
    "ROOT_DIR = \"/home/arfeen/papers_code/dom_gen_aaai_2020\"\n",
    "data_root = f\"{ROOT_DIR}/PACS/kfold/\"\n",
    "domain_samples1 = 10\n",
    "domain_samples2 = 245\n",
    "RANDOM_STATE = 42\n",
    "\n",
    "INDICES_DIR = f\"{ROOT_DIR}/saved-indices\"\n",
    "INDICES_PATH = f\"{INDICES_DIR}/indices_final.pt\"\n",
    "\n",
    "exp_nums = 2"
   ]
  },
  {
   "cell_type": "code",
   "execution_count": 25,
   "metadata": {},
   "outputs": [
    {
     "name": "stdout",
     "output_type": "stream",
     "text": [
      "Source domain: photo, art_painting, sketch, Target domain: cartoon\n"
     ]
    }
   ],
   "source": [
    "source_domain, target_domain = split_domain(get_domain(\"PACS\"), exp_nums)"
   ]
  },
  {
   "cell_type": "code",
   "execution_count": 26,
   "metadata": {},
   "outputs": [
    {
     "name": "stdout",
     "output_type": "stream",
     "text": [
      "Using Caffe AlexNet\n"
     ]
    }
   ],
   "source": [
    "model = get_model(\"caffenet\", \"general\")(\n",
    "        num_classes=7, num_domains=3, pretrained=True)\n",
    "caffenet_model = model.eval()"
   ]
  },
  {
   "cell_type": "code",
   "execution_count": 31,
   "metadata": {},
   "outputs": [
    {
     "name": "stdout",
     "output_type": "stream",
     "text": [
      "'ahkj', 'chygy'\n"
     ]
    }
   ],
   "source": [
    "s = ['ahkj','bjbjbh','chygy']\n",
    "s.pop(1)\n",
    "print('{}'.format(str(s)[1:-1]))"
   ]
  },
  {
   "cell_type": "code",
   "execution_count": 17,
   "metadata": {},
   "outputs": [
    {
     "name": "stdout",
     "output_type": "stream",
     "text": [
      "****************************************\n",
      "Train: 1843, Val: 205, Test: 1670\n",
      "Domain: 0 Batch number: 0\n",
      "Domain: 0 Batch number: 1\n",
      "Domain: 0 Batch number: 2\n",
      "Domain: 0 Batch number: 3\n",
      "Domain: 0 Batch number: 4\n",
      "Domain: 0 Batch number: 5\n",
      "Domain: 0 Batch number: 6\n",
      "Domain: 0 Batch number: 7\n",
      "Domain: 0 Batch number: 8\n",
      "Domain: 0 Batch number: 9\n",
      "Domain: 0 Batch number: 10\n",
      "Domain: 0 Batch number: 11\n",
      "Domain: 0 Batch number: 12\n",
      "Domain: 0 Batch number: 13\n",
      "Domain: 0 Batch number: 14\n",
      "length of samples from one domains : 10\n",
      "****************************************\n",
      "Train: 5645, Val: 628, Test: 1670\n",
      "Domain: 1 Batch number: 0\n",
      "Domain: 1 Batch number: 1\n",
      "Domain: 1 Batch number: 2\n",
      "Domain: 1 Batch number: 3\n",
      "Domain: 1 Batch number: 4\n",
      "Domain: 1 Batch number: 5\n",
      "Domain: 1 Batch number: 6\n",
      "Domain: 1 Batch number: 7\n",
      "Domain: 1 Batch number: 8\n",
      "Domain: 1 Batch number: 9\n",
      "Domain: 1 Batch number: 10\n",
      "Domain: 1 Batch number: 11\n",
      "Domain: 1 Batch number: 12\n",
      "Domain: 1 Batch number: 13\n",
      "Domain: 1 Batch number: 14\n",
      "Domain: 1 Batch number: 15\n",
      "Domain: 1 Batch number: 16\n",
      "Domain: 1 Batch number: 17\n",
      "Domain: 1 Batch number: 18\n",
      "Domain: 1 Batch number: 19\n",
      "Domain: 1 Batch number: 20\n",
      "Domain: 1 Batch number: 21\n",
      "Domain: 1 Batch number: 22\n",
      "Domain: 1 Batch number: 23\n",
      "Domain: 1 Batch number: 24\n",
      "Domain: 1 Batch number: 25\n",
      "Domain: 1 Batch number: 26\n",
      "Domain: 1 Batch number: 27\n",
      "Domain: 1 Batch number: 28\n",
      "Domain: 1 Batch number: 29\n",
      "Domain: 1 Batch number: 30\n",
      "Domain: 1 Batch number: 31\n",
      "Domain: 1 Batch number: 32\n",
      "Domain: 1 Batch number: 33\n",
      "Domain: 1 Batch number: 34\n",
      "Domain: 1 Batch number: 35\n",
      "Domain: 1 Batch number: 36\n",
      "Domain: 1 Batch number: 37\n",
      "Domain: 1 Batch number: 38\n",
      "Domain: 1 Batch number: 39\n",
      "Domain: 1 Batch number: 40\n",
      "Domain: 1 Batch number: 41\n",
      "Domain: 1 Batch number: 42\n",
      "Domain: 1 Batch number: 43\n",
      "Domain: 1 Batch number: 44\n"
     ]
    },
    {
     "ename": "KeyError",
     "evalue": "\"'cartoon', 'sketch'\"",
     "output_type": "error",
     "traceback": [
      "\u001b[0;31m---------------------------------------------------------------------------\u001b[0m",
      "\u001b[0;31mKeyError\u001b[0m                                  Traceback (most recent call last)",
      "\u001b[0;32m<ipython-input-17-8804fe92bb79>\u001b[0m in \u001b[0;36m<module>\u001b[0;34m\u001b[0m\n\u001b[1;32m     34\u001b[0m         \u001b[0mprint\u001b[0m\u001b[0;34m(\u001b[0m\u001b[0;34m'length of samples from one domains :'\u001b[0m\u001b[0;34m,\u001b[0m \u001b[0mlen\u001b[0m\u001b[0;34m(\u001b[0m \u001b[0mclustering_indices\u001b[0m\u001b[0;34m[\u001b[0m\u001b[0mcurrent_domain\u001b[0m\u001b[0;34m[\u001b[0m\u001b[0;36m0\u001b[0m\u001b[0;34m]\u001b[0m\u001b[0;34m]\u001b[0m\u001b[0;34m[\u001b[0m\u001b[0;34m'random_indices'\u001b[0m\u001b[0;34m]\u001b[0m\u001b[0;34m)\u001b[0m\u001b[0;34m)\u001b[0m\u001b[0;34m\u001b[0m\u001b[0;34m\u001b[0m\u001b[0m\n\u001b[1;32m     35\u001b[0m     \u001b[0;32mif\u001b[0m \u001b[0mi\u001b[0m\u001b[0;34m==\u001b[0m\u001b[0;36m1\u001b[0m\u001b[0;34m:\u001b[0m\u001b[0;34m\u001b[0m\u001b[0;34m\u001b[0m\u001b[0m\n\u001b[0;32m---> 36\u001b[0;31m         \u001b[0mclustering_indices\u001b[0m\u001b[0;34m[\u001b[0m\u001b[0;34m'{}'\u001b[0m\u001b[0;34m.\u001b[0m\u001b[0mformat\u001b[0m\u001b[0;34m(\u001b[0m\u001b[0mstr\u001b[0m\u001b[0;34m(\u001b[0m\u001b[0mcurrent_domain\u001b[0m\u001b[0;34m)\u001b[0m\u001b[0;34m[\u001b[0m\u001b[0;36m1\u001b[0m\u001b[0;34m:\u001b[0m\u001b[0;34m-\u001b[0m\u001b[0;36m1\u001b[0m\u001b[0;34m]\u001b[0m\u001b[0;34m)\u001b[0m\u001b[0;34m]\u001b[0m\u001b[0;34m[\u001b[0m\u001b[0;34m'random_indices'\u001b[0m\u001b[0;34m]\u001b[0m \u001b[0;34m=\u001b[0m \u001b[0mrandom\u001b[0m\u001b[0;34m.\u001b[0m\u001b[0msample\u001b[0m\u001b[0;34m(\u001b[0m\u001b[0mrange\u001b[0m\u001b[0;34m(\u001b[0m\u001b[0;36m0\u001b[0m\u001b[0;34m,\u001b[0m \u001b[0mlen\u001b[0m\u001b[0;34m(\u001b[0m\u001b[0mfeatures\u001b[0m\u001b[0;34m)\u001b[0m\u001b[0;34m)\u001b[0m \u001b[0;34m,\u001b[0m \u001b[0mk\u001b[0m\u001b[0;34m=\u001b[0m\u001b[0mdomain_samples2\u001b[0m\u001b[0;34m)\u001b[0m\u001b[0;34m\u001b[0m\u001b[0;34m\u001b[0m\u001b[0m\n\u001b[0m\u001b[1;32m     37\u001b[0m         \u001b[0mprint\u001b[0m\u001b[0;34m(\u001b[0m\u001b[0;34m'length of samples from other two domains :'\u001b[0m\u001b[0;34m,\u001b[0m \u001b[0mlen\u001b[0m\u001b[0;34m(\u001b[0m\u001b[0;34m(\u001b[0m\u001b[0mclustering_indices\u001b[0m\u001b[0;34m[\u001b[0m\u001b[0;34m'{}'\u001b[0m\u001b[0;34m.\u001b[0m\u001b[0mformat\u001b[0m\u001b[0;34m(\u001b[0m\u001b[0mstr\u001b[0m\u001b[0;34m(\u001b[0m\u001b[0mcurrent_domain\u001b[0m\u001b[0;34m)\u001b[0m\u001b[0;34m[\u001b[0m\u001b[0;36m1\u001b[0m\u001b[0;34m:\u001b[0m\u001b[0;34m-\u001b[0m\u001b[0;36m1\u001b[0m\u001b[0;34m]\u001b[0m\u001b[0;34m)\u001b[0m\u001b[0;34m]\u001b[0m\u001b[0;34m[\u001b[0m\u001b[0;34m'random_indices'\u001b[0m\u001b[0;34m]\u001b[0m\u001b[0;34m)\u001b[0m\u001b[0;34m)\u001b[0m\u001b[0;34m)\u001b[0m\u001b[0;34m\u001b[0m\u001b[0;34m\u001b[0m\u001b[0m\n\u001b[1;32m     38\u001b[0m     \u001b[0mclass_strength_0\u001b[0m \u001b[0;34m=\u001b[0m \u001b[0mnp\u001b[0m\u001b[0;34m.\u001b[0m\u001b[0mzeros\u001b[0m\u001b[0;34m(\u001b[0m\u001b[0;36m7\u001b[0m\u001b[0;34m)\u001b[0m\u001b[0;34m\u001b[0m\u001b[0;34m\u001b[0m\u001b[0m\n",
      "\u001b[0;31mKeyError\u001b[0m: \"'cartoon', 'sketch'\""
     ]
    }
   ],
   "source": [
    "clustering_indices = {}\n",
    "for i in range(3):\n",
    "    print(\"*\"*0)\n",
    "    idx = i\n",
    "    if i==0:\n",
    "        current_domain = source_domain[i:i+1]\n",
    "    if i==1:\n",
    "        source_domain.pop(0)\n",
    "        current_domain = source_domain\n",
    "    if i == 2:\n",
    "        current_domain = target_domain\n",
    "    \n",
    "    clustering_indices[current_domain1[0]] = {}\n",
    "    clustering_indices['{}'.format(str(current_domain2)[1:-1])] = {}\n",
    "    \n",
    "    \n",
    "    source_train, source_val, target_test, source= random_split_dataloader(\n",
    "    data=\"PACS\", data_root=data_root, source_domain=current_domain, target_domain=target_domain,\n",
    "    batch_size=128)\n",
    "    \n",
    "    features = []\n",
    "    labels = []\n",
    "    for ind, batch in enumerate(source_train):\n",
    "\n",
    "        print(f\"Domain: {i} Batch number: {ind}\")\n",
    "        features.extend(caffenet_model.features(batch[0]))\n",
    "        labels.extend(batch[1].numpy())\n",
    "    \n",
    "    features = [feature.data.numpy() for feature in features]\n",
    "\n",
    "    #kmedoids = KMedoids(n_clusters=domain_samples, random_state=RANDOM_STATE)\n",
    "    #I = kmedoids.fit_predict(features)\n",
    "\n",
    "    #clustering_indices[current_domain[0]]['clustering_indices'] = kmedoids.medoid_indices_.tolist()\n",
    "    if i==0:\n",
    "        clustering_indices[current_domain1[0]]['random_indices'] = random.sample(range(0, len(features)) , k=domain_samples1)\n",
    "        print('length of samples from one domains :', len( clustering_indices[current_domain[0]]['random_indices']))\n",
    "    if i==1:\n",
    "        clustering_indices['{}'.format(str(current_domain2)[1:-1])]['random_indices'] = random.sample(range(0, len(features)) , k=domain_samples2)\n",
    "        print('length of samples from other two domains :', len((clustering_indices['{}'.format(str(current_domain)[1:-1])]['random_indices'])))\n",
    "    class_strength_0 = np.zeros(7)\n",
    "    class_strength_1 = np.zeros(7)\n",
    "\n",
    "    #for indices in clustering_indices[current_domain[0]]['clustering_indices']:\n",
    "        #class_strength_0[labels[indices]] += 1\n",
    "\n",
    "    #for indices in clustering_indices[current_domain[0]]['random_indices']:\n",
    "        #class_strength_1[labels[indices]] += 1\n",
    "\n",
    "    #clustering_indices[current_domain[0]]['clustering_class_strength'] = class_strength_0\n",
    "    #clustering_indices[current_domain[0]]['random_class_strength'] = class_strength_1"
   ]
  },
  {
   "cell_type": "code",
   "execution_count": null,
   "metadata": {},
   "outputs": [],
   "source": []
  },
  {
   "cell_type": "code",
   "execution_count": null,
   "metadata": {},
   "outputs": [],
   "source": [
    "clustering_indices"
   ]
  },
  {
   "cell_type": "code",
   "execution_count": null,
   "metadata": {},
   "outputs": [],
   "source": [
    "if not os.path.exists(INDICES_DIR):\n",
    "    print(\"Making directory to save indices\")\n",
    "    os.mkdir(INDICES_DIR)\n",
    "else:\n",
    "    print(\"Directory is already present!\")"
   ]
  },
  {
   "cell_type": "code",
   "execution_count": null,
   "metadata": {},
   "outputs": [],
   "source": [
    "torch.save({'indices': clustering_indices}, INDICES_PATH)"
   ]
  },
  {
   "cell_type": "code",
   "execution_count": null,
   "metadata": {},
   "outputs": [],
   "source": [
    "INDICES = torch.load(INDICES_PATH)['indices']"
   ]
  },
  {
   "cell_type": "code",
   "execution_count": null,
   "metadata": {},
   "outputs": [],
   "source": [
    "INDICES.keys()"
   ]
  },
  {
   "cell_type": "code",
   "execution_count": null,
   "metadata": {},
   "outputs": [],
   "source": [
    "source_domain = domain_map[\"PACS\"]"
   ]
  },
  {
   "cell_type": "code",
   "execution_count": null,
   "metadata": {},
   "outputs": [],
   "source": [
    "source_domain"
   ]
  },
  {
   "cell_type": "code",
   "execution_count": null,
   "metadata": {},
   "outputs": [],
   "source": [
    "INDICES"
   ]
  },
  {
   "cell_type": "code",
   "execution_count": null,
   "metadata": {},
   "outputs": [],
   "source": [
    "source_train, source_val, target_test, source= random_split_dataloader_init(\n",
    "data=\"PACS\", data_root=data_root, source_domain=source_domain[:1], target_domain=target_domain,\n",
    "batch_size=128)"
   ]
  },
  {
   "cell_type": "code",
   "execution_count": null,
   "metadata": {},
   "outputs": [],
   "source": [
    "dir(source)"
   ]
  },
  {
   "cell_type": "code",
   "execution_count": null,
   "metadata": {},
   "outputs": [],
   "source": [
    "source.samples"
   ]
  },
  {
   "cell_type": "code",
   "execution_count": null,
   "metadata": {},
   "outputs": [],
   "source": [
    "len(INDICES['photo']['clustering_indices'])"
   ]
  },
  {
   "cell_type": "code",
   "execution_count": null,
   "metadata": {},
   "outputs": [],
   "source": []
  }
 ],
 "metadata": {
  "kernelspec": {
   "display_name": "Python 3",
   "language": "python",
   "name": "python3"
  },
  "language_info": {
   "codemirror_mode": {
    "name": "ipython",
    "version": 3
   },
   "file_extension": ".py",
   "mimetype": "text/x-python",
   "name": "python",
   "nbconvert_exporter": "python",
   "pygments_lexer": "ipython3",
   "version": "3.8.3"
  }
 },
 "nbformat": 4,
 "nbformat_minor": 4
}
