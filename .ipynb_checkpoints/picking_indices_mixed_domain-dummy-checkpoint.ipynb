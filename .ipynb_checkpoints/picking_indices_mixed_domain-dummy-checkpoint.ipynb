{
 "cells": [
  {
   "cell_type": "code",
   "execution_count": 1,
   "metadata": {},
   "outputs": [
    {
     "name": "stdout",
     "output_type": "stream",
     "text": [
      "Requirement already satisfied: scikit-learn-extra in /home/arfeen/anaconda3/lib/python3.8/site-packages (0.1.0b2)\n",
      "Requirement already satisfied: numpy>=1.13.3 in /home/arfeen/anaconda3/lib/python3.8/site-packages (from scikit-learn-extra) (1.18.5)\n",
      "Requirement already satisfied: scipy>=0.19.1 in /home/arfeen/anaconda3/lib/python3.8/site-packages (from scikit-learn-extra) (1.5.0)\n",
      "Requirement already satisfied: scikit-learn>=0.21.0 in /home/arfeen/anaconda3/lib/python3.8/site-packages (from scikit-learn-extra) (0.23.1)\n",
      "Requirement already satisfied: threadpoolctl>=2.0.0 in /home/arfeen/anaconda3/lib/python3.8/site-packages (from scikit-learn>=0.21.0->scikit-learn-extra) (2.1.0)\n",
      "Requirement already satisfied: joblib>=0.11 in /home/arfeen/anaconda3/lib/python3.8/site-packages (from scikit-learn>=0.21.0->scikit-learn-extra) (0.16.0)\n"
     ]
    }
   ],
   "source": [
    "!pip install scikit-learn-extra"
   ]
  },
  {
   "cell_type": "markdown",
   "metadata": {},
   "source": [
    "## Code to pick initial samples using KMedoids and Random"
   ]
  },
  {
   "cell_type": "code",
   "execution_count": 2,
   "metadata": {},
   "outputs": [],
   "source": [
    "import sys\n",
    "sys.path.append('../')"
   ]
  },
  {
   "cell_type": "code",
   "execution_count": 15,
   "metadata": {},
   "outputs": [],
   "source": [
    "import torch\n",
    "import torch.nn as nn\n",
    "import numpy as np\n",
    "from sklearn_extra.cluster import KMedoids\n",
    "from copy import deepcopy\n",
    "import os\n",
    "import random"
   ]
  },
  {
   "cell_type": "code",
   "execution_count": 16,
   "metadata": {},
   "outputs": [],
   "source": [
    "device = torch.device(\"cuda:\" + str(0) if torch.cuda.is_available() else \"cpu\")"
   ]
  },
  {
   "cell_type": "code",
   "execution_count": 17,
   "metadata": {},
   "outputs": [],
   "source": [
    "from dataloader.dataloader import random_split_dataloader\n",
    "from util.util import *\n",
    "from copy import deepcopy"
   ]
  },
  {
   "cell_type": "code",
   "execution_count": 18,
   "metadata": {},
   "outputs": [],
   "source": [
    "def split_domain(domains, split_idx, print_domain=True):\n",
    "    source_domain = deepcopy(domains)\n",
    "    target_domain = [source_domain.pop(split_idx)]\n",
    "    if print_domain:\n",
    "        print('Source domain: ', end='')\n",
    "        for domain in source_domain:\n",
    "            print(domain, end=', ')\n",
    "        print('Target domain: ', end='')\n",
    "        for domain in target_domain:\n",
    "            print(domain)\n",
    "    return source_domain, target_domain\n",
    "    \n",
    "domain_map = {\n",
    "    'PACS': ['photo', 'art_painting', 'cartoon', 'sketch'],\n",
    "    'PACS_random_split': ['photo', 'art_painting', 'cartoon', 'sketch'],\n",
    "    'OfficeHome': ['Art', 'Clipart', 'Product', 'RealWorld'],\n",
    "    'VLCS': ['Caltech', 'Labelme', 'Pascal', 'Sun']\n",
    "}\n",
    "\n",
    "def get_domain(name):\n",
    "    if name not in domain_map:\n",
    "        raise ValueError('Name of dataset unknown %s' %name)\n",
    "    return domain_map[name]"
   ]
  },
  {
   "cell_type": "code",
   "execution_count": 19,
   "metadata": {},
   "outputs": [],
   "source": [
    "ROOT_DIR = \"/home/arfeen/papers_code/dom_gen_aaai_2020\"\n",
    "data_root = f\"{ROOT_DIR}/PACS/kfold/\"\n",
    "#domain_samples = 170\n",
    "domain_samples = 255\n",
    "RANDOM_STATE = 42\n",
    "\n",
    "INDICES_DIR = f\"{ROOT_DIR}/saved-indices\"\n",
    "INDICES_PATH = f\"{INDICES_DIR}/mixed_domain_indices_255.pt\"\n",
    "\n",
    "exp_nums = 0"
   ]
  },
  {
   "cell_type": "code",
   "execution_count": 20,
   "metadata": {},
   "outputs": [
    {
     "name": "stdout",
     "output_type": "stream",
     "text": [
      "Source domain: art_painting, cartoon, sketch, Target domain: photo\n"
     ]
    }
   ],
   "source": [
    "source_domain, target_domain = split_domain(get_domain(\"PACS\"), exp_nums)"
   ]
  },
  {
   "cell_type": "code",
   "execution_count": 21,
   "metadata": {},
   "outputs": [
    {
     "name": "stdout",
     "output_type": "stream",
     "text": [
      "Using Caffe AlexNet\n"
     ]
    }
   ],
   "source": [
    "model = get_model(\"caffenet\", \"general\")(num_classes=7, num_domains=3, pretrained=True)\n",
    "caffenet_model = model.eval()"
   ]
  },
  {
   "cell_type": "code",
   "execution_count": 22,
   "metadata": {},
   "outputs": [
    {
     "name": "stdout",
     "output_type": "stream",
     "text": [
      "Source domain: art_painting, cartoon, sketch, Target domain: photo\n",
      "****************************************\n",
      "Train: 7488, Val: 833, Test: 1670\n",
      "Domain: 2 Batch number: 0\n",
      "Domain: 2 Batch number: 1\n",
      "Domain: 2 Batch number: 2\n",
      "Domain: 2 Batch number: 3\n",
      "Domain: 2 Batch number: 4\n",
      "Domain: 2 Batch number: 5\n",
      "Domain: 2 Batch number: 6\n",
      "Domain: 2 Batch number: 7\n",
      "Domain: 2 Batch number: 8\n",
      "Domain: 2 Batch number: 9\n",
      "Domain: 2 Batch number: 10\n",
      "Domain: 2 Batch number: 11\n",
      "Domain: 2 Batch number: 12\n",
      "Domain: 2 Batch number: 13\n",
      "Domain: 2 Batch number: 14\n",
      "Domain: 2 Batch number: 15\n",
      "Domain: 2 Batch number: 16\n",
      "Domain: 2 Batch number: 17\n",
      "Domain: 2 Batch number: 18\n",
      "Domain: 2 Batch number: 19\n",
      "Domain: 2 Batch number: 20\n",
      "Domain: 2 Batch number: 21\n",
      "Domain: 2 Batch number: 22\n",
      "Domain: 2 Batch number: 23\n",
      "Domain: 2 Batch number: 24\n",
      "Domain: 2 Batch number: 25\n",
      "Domain: 2 Batch number: 26\n",
      "Domain: 2 Batch number: 27\n",
      "Domain: 2 Batch number: 28\n",
      "Domain: 2 Batch number: 29\n",
      "Domain: 2 Batch number: 30\n",
      "Domain: 2 Batch number: 31\n",
      "Domain: 2 Batch number: 32\n",
      "Domain: 2 Batch number: 33\n",
      "Domain: 2 Batch number: 34\n",
      "Domain: 2 Batch number: 35\n",
      "Domain: 2 Batch number: 36\n",
      "Domain: 2 Batch number: 37\n",
      "Domain: 2 Batch number: 38\n",
      "Domain: 2 Batch number: 39\n",
      "Domain: 2 Batch number: 40\n",
      "Domain: 2 Batch number: 41\n",
      "Domain: 2 Batch number: 42\n",
      "Domain: 2 Batch number: 43\n",
      "Domain: 2 Batch number: 44\n",
      "Domain: 2 Batch number: 45\n",
      "Domain: 2 Batch number: 46\n",
      "Domain: 2 Batch number: 47\n",
      "Domain: 2 Batch number: 48\n",
      "Domain: 2 Batch number: 49\n",
      "Domain: 2 Batch number: 50\n",
      "Domain: 2 Batch number: 51\n",
      "Domain: 2 Batch number: 52\n",
      "Domain: 2 Batch number: 53\n",
      "Domain: 2 Batch number: 54\n",
      "Domain: 2 Batch number: 55\n",
      "Domain: 2 Batch number: 56\n",
      "Domain: 2 Batch number: 57\n",
      "Domain: 2 Batch number: 58\n",
      "Source domain: photo, cartoon, sketch, Target domain: art_painting\n",
      "****************************************\n",
      "Train: 7148, Val: 795, Test: 2048\n",
      "Domain: 2 Batch number: 0\n",
      "Domain: 2 Batch number: 1\n",
      "Domain: 2 Batch number: 2\n",
      "Domain: 2 Batch number: 3\n",
      "Domain: 2 Batch number: 4\n",
      "Domain: 2 Batch number: 5\n",
      "Domain: 2 Batch number: 6\n",
      "Domain: 2 Batch number: 7\n",
      "Domain: 2 Batch number: 8\n",
      "Domain: 2 Batch number: 9\n",
      "Domain: 2 Batch number: 10\n",
      "Domain: 2 Batch number: 11\n",
      "Domain: 2 Batch number: 12\n",
      "Domain: 2 Batch number: 13\n",
      "Domain: 2 Batch number: 14\n",
      "Domain: 2 Batch number: 15\n",
      "Domain: 2 Batch number: 16\n",
      "Domain: 2 Batch number: 17\n",
      "Domain: 2 Batch number: 18\n",
      "Domain: 2 Batch number: 19\n",
      "Domain: 2 Batch number: 20\n",
      "Domain: 2 Batch number: 21\n",
      "Domain: 2 Batch number: 22\n",
      "Domain: 2 Batch number: 23\n",
      "Domain: 2 Batch number: 24\n",
      "Domain: 2 Batch number: 25\n",
      "Domain: 2 Batch number: 26\n",
      "Domain: 2 Batch number: 27\n",
      "Domain: 2 Batch number: 28\n",
      "Domain: 2 Batch number: 29\n",
      "Domain: 2 Batch number: 30\n",
      "Domain: 2 Batch number: 31\n",
      "Domain: 2 Batch number: 32\n",
      "Domain: 2 Batch number: 33\n",
      "Domain: 2 Batch number: 34\n",
      "Domain: 2 Batch number: 35\n",
      "Domain: 2 Batch number: 36\n",
      "Domain: 2 Batch number: 37\n",
      "Domain: 2 Batch number: 38\n",
      "Domain: 2 Batch number: 39\n",
      "Domain: 2 Batch number: 40\n",
      "Domain: 2 Batch number: 41\n",
      "Domain: 2 Batch number: 42\n",
      "Domain: 2 Batch number: 43\n",
      "Domain: 2 Batch number: 44\n",
      "Domain: 2 Batch number: 45\n",
      "Domain: 2 Batch number: 46\n",
      "Domain: 2 Batch number: 47\n",
      "Domain: 2 Batch number: 48\n",
      "Domain: 2 Batch number: 49\n",
      "Domain: 2 Batch number: 50\n",
      "Domain: 2 Batch number: 51\n",
      "Domain: 2 Batch number: 52\n",
      "Domain: 2 Batch number: 53\n",
      "Domain: 2 Batch number: 54\n",
      "Domain: 2 Batch number: 55\n",
      "Source domain: photo, art_painting, sketch, Target domain: cartoon\n",
      "****************************************\n",
      "Train: 6882, Val: 765, Test: 2344\n",
      "Domain: 2 Batch number: 0\n",
      "Domain: 2 Batch number: 1\n",
      "Domain: 2 Batch number: 2\n",
      "Domain: 2 Batch number: 3\n",
      "Domain: 2 Batch number: 4\n",
      "Domain: 2 Batch number: 5\n",
      "Domain: 2 Batch number: 6\n",
      "Domain: 2 Batch number: 7\n",
      "Domain: 2 Batch number: 8\n",
      "Domain: 2 Batch number: 9\n",
      "Domain: 2 Batch number: 10\n",
      "Domain: 2 Batch number: 11\n",
      "Domain: 2 Batch number: 12\n",
      "Domain: 2 Batch number: 13\n",
      "Domain: 2 Batch number: 14\n",
      "Domain: 2 Batch number: 15\n",
      "Domain: 2 Batch number: 16\n",
      "Domain: 2 Batch number: 17\n",
      "Domain: 2 Batch number: 18\n",
      "Domain: 2 Batch number: 19\n",
      "Domain: 2 Batch number: 20\n",
      "Domain: 2 Batch number: 21\n",
      "Domain: 2 Batch number: 22\n",
      "Domain: 2 Batch number: 23\n",
      "Domain: 2 Batch number: 24\n",
      "Domain: 2 Batch number: 25\n",
      "Domain: 2 Batch number: 26\n",
      "Domain: 2 Batch number: 27\n",
      "Domain: 2 Batch number: 28\n",
      "Domain: 2 Batch number: 29\n",
      "Domain: 2 Batch number: 30\n",
      "Domain: 2 Batch number: 31\n",
      "Domain: 2 Batch number: 32\n",
      "Domain: 2 Batch number: 33\n",
      "Domain: 2 Batch number: 34\n",
      "Domain: 2 Batch number: 35\n",
      "Domain: 2 Batch number: 36\n",
      "Domain: 2 Batch number: 37\n",
      "Domain: 2 Batch number: 38\n",
      "Domain: 2 Batch number: 39\n",
      "Domain: 2 Batch number: 40\n",
      "Domain: 2 Batch number: 41\n",
      "Domain: 2 Batch number: 42\n",
      "Domain: 2 Batch number: 43\n",
      "Domain: 2 Batch number: 44\n",
      "Domain: 2 Batch number: 45\n",
      "Domain: 2 Batch number: 46\n",
      "Domain: 2 Batch number: 47\n",
      "Domain: 2 Batch number: 48\n",
      "Domain: 2 Batch number: 49\n",
      "Domain: 2 Batch number: 50\n",
      "Domain: 2 Batch number: 51\n",
      "Domain: 2 Batch number: 52\n",
      "Domain: 2 Batch number: 53\n",
      "Source domain: photo, art_painting, cartoon, Target domain: sketch\n",
      "****************************************\n",
      "Train: 5455, Val: 607, Test: 3929\n",
      "Domain: 2 Batch number: 0\n",
      "Domain: 2 Batch number: 1\n",
      "Domain: 2 Batch number: 2\n",
      "Domain: 2 Batch number: 3\n",
      "Domain: 2 Batch number: 4\n",
      "Domain: 2 Batch number: 5\n",
      "Domain: 2 Batch number: 6\n",
      "Domain: 2 Batch number: 7\n",
      "Domain: 2 Batch number: 8\n",
      "Domain: 2 Batch number: 9\n",
      "Domain: 2 Batch number: 10\n",
      "Domain: 2 Batch number: 11\n",
      "Domain: 2 Batch number: 12\n",
      "Domain: 2 Batch number: 13\n",
      "Domain: 2 Batch number: 14\n",
      "Domain: 2 Batch number: 15\n",
      "Domain: 2 Batch number: 16\n",
      "Domain: 2 Batch number: 17\n",
      "Domain: 2 Batch number: 18\n",
      "Domain: 2 Batch number: 19\n",
      "Domain: 2 Batch number: 20\n",
      "Domain: 2 Batch number: 21\n",
      "Domain: 2 Batch number: 22\n",
      "Domain: 2 Batch number: 23\n",
      "Domain: 2 Batch number: 24\n",
      "Domain: 2 Batch number: 25\n",
      "Domain: 2 Batch number: 26\n",
      "Domain: 2 Batch number: 27\n",
      "Domain: 2 Batch number: 28\n",
      "Domain: 2 Batch number: 29\n",
      "Domain: 2 Batch number: 30\n",
      "Domain: 2 Batch number: 31\n",
      "Domain: 2 Batch number: 32\n",
      "Domain: 2 Batch number: 33\n",
      "Domain: 2 Batch number: 34\n",
      "Domain: 2 Batch number: 35\n",
      "Domain: 2 Batch number: 36\n",
      "Domain: 2 Batch number: 37\n",
      "Domain: 2 Batch number: 38\n",
      "Domain: 2 Batch number: 39\n",
      "Domain: 2 Batch number: 40\n",
      "Domain: 2 Batch number: 41\n",
      "Domain: 2 Batch number: 42\n"
     ]
    }
   ],
   "source": [
    "clustering_indices = {}\n",
    "for i in range(4):\n",
    "    exp_nums = i\n",
    "    source_domain, target_domain = split_domain(get_domain(\"PACS\"), exp_nums)\n",
    "    print(\"*\"*40)\n",
    "       \n",
    "    clustering_indices['mixed_{}_source_domain_indices'.format(str(source_domain)[1:-1])] = {}\n",
    "    \n",
    "    source_train, source_val, target_test, source= random_split_dataloader(\n",
    "    data=\"PACS\", data_root=data_root, source_domain=source_domain, target_domain=target_domain,\n",
    "    batch_size=128)\n",
    "    all_indices_per_domain = []\n",
    "    features = []\n",
    "    labels = []\n",
    "    indice = torch.load('/home/arfeen/papers_code/dom_gen_aaai_2020/dg_mmld-master/indices_final.pt')['indices']\n",
    "    for i in range(len(source_domain)):\n",
    "        sample_indices = indice[source_domain[i]]['random_indices']\n",
    "        all_indices_per_domain.extend(sample_indices)\n",
    "    for ind, batch in enumerate(source_train):\n",
    "\n",
    "        print(f\"Domain: {i} Batch number: {ind}\")\n",
    "        features.extend(caffenet_model.features(batch[0]))\n",
    "        labels.extend(batch[1].numpy())\n",
    "        \n",
    "        \n",
    "    features = [feature.data.numpy() for feature in features]\n",
    "    indices_range = [i for i in range(len(features)) if i not in all_indices_per_domain]\n",
    "    kmedoids = KMedoids(n_clusters=domain_samples, random_state=RANDOM_STATE)\n",
    "    I = kmedoids.fit_predict(features)\n",
    "\n",
    "    clustering_indices['mixed_{}_source_domain_indices'.format(str(source_domain)[1:-1])]['clustering_indices'] = kmedoids.medoid_indices_.tolist()\n",
    "    clustering_indices['mixed_{}_source_domain_indices'.format(str(source_domain)[1:-1])]['random_indices'] = random.sample(indices_range , k=domain_samples)\n",
    "\n",
    "    class_strength_0 = np.zeros(7)\n",
    "    class_strength_1 = np.zeros(7)\n",
    "\n",
    "    for indices in clustering_indices['mixed_{}_source_domain_indices'.format(str(source_domain)[1:-1])]['clustering_indices']:\n",
    "        class_strength_0[labels[indices]] += 1\n",
    "\n",
    "    for indices in clustering_indices['mixed_{}_source_domain_indices'.format(str(source_domain)[1:-1])]['random_indices']:\n",
    "        class_strength_1[labels[indices]] += 1\n",
    "\n",
    "    clustering_indices['mixed_{}_source_domain_indices'.format(str(source_domain)[1:-1])]['clustering_class_strength'] = class_strength_0\n",
    "    clustering_indices['mixed_{}_source_domain_indices'.format(str(source_domain)[1:-1])]['random_class_strength'] = class_strength_1"
   ]
  },
  {
   "cell_type": "code",
   "execution_count": null,
   "metadata": {},
   "outputs": [],
   "source": []
  },
  {
   "cell_type": "code",
   "execution_count": 23,
   "metadata": {},
   "outputs": [
    {
     "data": {
      "text/plain": [
       "255"
      ]
     },
     "execution_count": 23,
     "metadata": {},
     "output_type": "execute_result"
    }
   ],
   "source": [
    "len(clustering_indices['mixed_{}_source_domain_indices'.format(str(source_domain)[1:-1])]['random_indices'])"
   ]
  },
  {
   "cell_type": "code",
   "execution_count": 24,
   "metadata": {},
   "outputs": [
    {
     "name": "stdout",
     "output_type": "stream",
     "text": [
      "Directory is already present!\n"
     ]
    }
   ],
   "source": [
    "if not os.path.exists(INDICES_DIR):\n",
    "    print(\"Making directory to save indices\")\n",
    "    os.mkdir(INDICES_DIR)\n",
    "else:\n",
    "    print(\"Directory is already present!\")"
   ]
  },
  {
   "cell_type": "code",
   "execution_count": 25,
   "metadata": {},
   "outputs": [],
   "source": [
    "torch.save({'indices': clustering_indices}, INDICES_PATH)"
   ]
  },
  {
   "cell_type": "code",
   "execution_count": null,
   "metadata": {},
   "outputs": [],
   "source": [
    "INDICES = torch.load(INDICES_PATH)['indices']"
   ]
  },
  {
   "cell_type": "code",
   "execution_count": null,
   "metadata": {},
   "outputs": [],
   "source": [
    "INDICES.keys()"
   ]
  },
  {
   "cell_type": "code",
   "execution_count": null,
   "metadata": {},
   "outputs": [],
   "source": [
    "source_domain = domain_map[\"PACS\"]"
   ]
  },
  {
   "cell_type": "code",
   "execution_count": null,
   "metadata": {},
   "outputs": [],
   "source": [
    "source_domain"
   ]
  },
  {
   "cell_type": "code",
   "execution_count": null,
   "metadata": {},
   "outputs": [],
   "source": []
  },
  {
   "cell_type": "code",
   "execution_count": null,
   "metadata": {},
   "outputs": [],
   "source": [
    "source_train, source_val, target_test, source= random_split_dataloader_init(\n",
    "data=\"PACS\", data_root=data_root, source_domain=source_domain[:1], target_domain=target_domain,\n",
    "batch_size=128)"
   ]
  },
  {
   "cell_type": "code",
   "execution_count": null,
   "metadata": {},
   "outputs": [],
   "source": [
    "dir(source)"
   ]
  },
  {
   "cell_type": "code",
   "execution_count": null,
   "metadata": {},
   "outputs": [],
   "source": [
    "source.samples"
   ]
  },
  {
   "cell_type": "code",
   "execution_count": null,
   "metadata": {},
   "outputs": [],
   "source": [
    "len(INDICES['art_painting']['random_indices'])"
   ]
  },
  {
   "cell_type": "code",
   "execution_count": null,
   "metadata": {},
   "outputs": [],
   "source": []
  }
 ],
 "metadata": {
  "kernelspec": {
   "display_name": "Python 3",
   "language": "python",
   "name": "python3"
  },
  "language_info": {
   "codemirror_mode": {
    "name": "ipython",
    "version": 3
   },
   "file_extension": ".py",
   "mimetype": "text/x-python",
   "name": "python",
   "nbconvert_exporter": "python",
   "pygments_lexer": "ipython3",
   "version": "3.8.3"
  }
 },
 "nbformat": 4,
 "nbformat_minor": 4
}
