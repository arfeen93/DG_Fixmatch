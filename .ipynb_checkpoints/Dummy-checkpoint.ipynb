{
 "cells": [
  {
   "cell_type": "code",
   "execution_count": 10,
   "metadata": {},
   "outputs": [],
   "source": [
    "import sys\n",
    "sys.path.append('../')\n",
    "\n",
    "from torch.utils.data import DataLoader\n",
    "import torch\n",
    "import argparse\n",
    "import os\n",
    "from util.util import *\n",
    "from train.eval import *\n",
    "from clustering.domain_split import domain_split\n",
    "from dataloader.dataloader import random_split_dataloader\n",
    "from torchvision.datasets.folder import make_dataset\n",
    "import dataloader.Dataset\n",
    "from dataloader.Dataset import DG_Dataset\n",
    "import random\n",
    "import numpy as np"
   ]
  },
  {
   "cell_type": "code",
   "execution_count": 11,
   "metadata": {},
   "outputs": [],
   "source": [
    "data_root='/home/arfeen/papers_code/dom_gen_aaai_2020/PACS/kfold/'"
   ]
  },
  {
   "cell_type": "code",
   "execution_count": 12,
   "metadata": {},
   "outputs": [],
   "source": [
    "domain = ['art_painting','cartoon','photo','sketch']\n",
    "IMG_EXTENSIONS = ('.jpg', '.jpeg', '.png', '.ppm', '.bmp', '.pgm', '.tif', '.tiff', '.webp')"
   ]
  },
  {
   "cell_type": "code",
   "execution_count": 13,
   "metadata": {},
   "outputs": [],
   "source": [
    "def find_classes( dir_name):\n",
    "    if sys.version_info >= (3, 5):\n",
    "        # Faster and available in Python 3.5 and above\n",
    "        classes = [d.name for d in os.scandir(dir_name) if d.is_dir()]\n",
    "    else:\n",
    "        classes = [d for d in os.listdir(dir_name) if os.path.isdir(os.path.join(dir_name, d))]\n",
    "    classes.sort()\n",
    "    class_to_idx = {classes[i]: i for i in range(len(classes))}\n",
    "    return classes, class_to_idx"
   ]
  },
  {
   "cell_type": "code",
   "execution_count": 16,
   "metadata": {},
   "outputs": [
    {
     "name": "stdout",
     "output_type": "stream",
     "text": [
      "Source domain: cartoon, photo, sketch, Target domain: art_painting\n",
      "length of unlabelled indices outside : 7433\n",
      "length of mixed samples 7433\n",
      "length of all combined samples 7433\n"
     ]
    },
    {
     "ename": "TypeError",
     "evalue": "Population must be a sequence or set.  For dicts, use list(d).",
     "output_type": "error",
     "traceback": [
      "\u001b[0;31m---------------------------------------------------------------------------\u001b[0m",
      "\u001b[0;31mTypeError\u001b[0m                                 Traceback (most recent call last)",
      "\u001b[0;32m<ipython-input-16-e63c38d62bf2>\u001b[0m in \u001b[0;36m<module>\u001b[0;34m\u001b[0m\n\u001b[1;32m      5\u001b[0m                             get_domain_label=False, get_cluster=False, color_jitter=True, min_scale=0.8)\n\u001b[1;32m      6\u001b[0m     \u001b[0mk\u001b[0m \u001b[0;34m=\u001b[0m \u001b[0mint\u001b[0m\u001b[0;34m(\u001b[0m\u001b[0mnp\u001b[0m\u001b[0;34m.\u001b[0m\u001b[0mceil\u001b[0m\u001b[0;34m(\u001b[0m\u001b[0mlen\u001b[0m\u001b[0;34m(\u001b[0m\u001b[0msource_unlbl\u001b[0m\u001b[0;34m)\u001b[0m\u001b[0;34m*\u001b[0m\u001b[0;36m0.1\u001b[0m\u001b[0;34m)\u001b[0m\u001b[0;34m)\u001b[0m\u001b[0;34m\u001b[0m\u001b[0;34m\u001b[0m\u001b[0m\n\u001b[0;32m----> 7\u001b[0;31m     \u001b[0mval_set\u001b[0m \u001b[0;34m=\u001b[0m \u001b[0mrandom\u001b[0m\u001b[0;34m.\u001b[0m\u001b[0msample\u001b[0m\u001b[0;34m(\u001b[0m\u001b[0msource_unlbl\u001b[0m\u001b[0;34m,\u001b[0m \u001b[0mk\u001b[0m\u001b[0;34m)\u001b[0m\u001b[0;34m\u001b[0m\u001b[0;34m\u001b[0m\u001b[0m\n\u001b[0m\u001b[1;32m      8\u001b[0m     \u001b[0;31m#print(list(source_unlbl[0]))\u001b[0m\u001b[0;34m\u001b[0m\u001b[0;34m\u001b[0m\u001b[0;34m\u001b[0m\u001b[0m\n\u001b[1;32m      9\u001b[0m \u001b[0;34m\u001b[0m\u001b[0m\n",
      "\u001b[0;32m~/anaconda3/lib/python3.8/random.py\u001b[0m in \u001b[0;36msample\u001b[0;34m(self, population, k)\u001b[0m\n\u001b[1;32m    357\u001b[0m             \u001b[0mpopulation\u001b[0m \u001b[0;34m=\u001b[0m \u001b[0mtuple\u001b[0m\u001b[0;34m(\u001b[0m\u001b[0mpopulation\u001b[0m\u001b[0;34m)\u001b[0m\u001b[0;34m\u001b[0m\u001b[0;34m\u001b[0m\u001b[0m\n\u001b[1;32m    358\u001b[0m         \u001b[0;32mif\u001b[0m \u001b[0;32mnot\u001b[0m \u001b[0misinstance\u001b[0m\u001b[0;34m(\u001b[0m\u001b[0mpopulation\u001b[0m\u001b[0;34m,\u001b[0m \u001b[0m_Sequence\u001b[0m\u001b[0;34m)\u001b[0m\u001b[0;34m:\u001b[0m\u001b[0;34m\u001b[0m\u001b[0;34m\u001b[0m\u001b[0m\n\u001b[0;32m--> 359\u001b[0;31m             \u001b[0;32mraise\u001b[0m \u001b[0mTypeError\u001b[0m\u001b[0;34m(\u001b[0m\u001b[0;34m\"Population must be a sequence or set.  For dicts, use list(d).\"\u001b[0m\u001b[0;34m)\u001b[0m\u001b[0;34m\u001b[0m\u001b[0;34m\u001b[0m\u001b[0m\n\u001b[0m\u001b[1;32m    360\u001b[0m         \u001b[0mrandbelow\u001b[0m \u001b[0;34m=\u001b[0m \u001b[0mself\u001b[0m\u001b[0;34m.\u001b[0m\u001b[0m_randbelow\u001b[0m\u001b[0;34m\u001b[0m\u001b[0;34m\u001b[0m\u001b[0m\n\u001b[1;32m    361\u001b[0m         \u001b[0mn\u001b[0m \u001b[0;34m=\u001b[0m \u001b[0mlen\u001b[0m\u001b[0;34m(\u001b[0m\u001b[0mpopulation\u001b[0m\u001b[0;34m)\u001b[0m\u001b[0;34m\u001b[0m\u001b[0;34m\u001b[0m\u001b[0m\n",
      "\u001b[0;31mTypeError\u001b[0m: Population must be a sequence or set.  For dicts, use list(d)."
     ]
    }
   ],
   "source": [
    "\n",
    "for i in range(len(domain)):\n",
    "    exp_num = i\n",
    "    source_domain, target_domain = split_domain(domain, exp_num)\n",
    "    source_unlbl = DG_Dataset(root_dir=data_root, domain=source_domain, split='val',labelling='unlbl',\n",
    "                            get_domain_label=False, get_cluster=False, color_jitter=True, min_scale=0.8)\n",
    "    img_unlbl_list = [data[0] for i,data in enumerate(source_unlbl)]\n",
    "    print('img_unlbl_list :', img_unlbl_list[0] )\n",
    "    k = int(np.ceil(len(source_unlbl)*0.1))\n",
    "    val_set = random.sample(source_unlbl, k)\n",
    "    #print(list(source_unlbl[0]))\n",
    "    \n",
    "    "
   ]
  },
  {
   "cell_type": "code",
   "execution_count": null,
   "metadata": {},
   "outputs": [],
   "source": [
    "for i in range(len(domain)):\n",
    "    val_set=[]\n",
    "    total_samples=[]\n",
    "    images_list = []\n",
    "    exp_num = i\n",
    "    source_domain, target_domain = split_domain(domain, exp_num)\n",
    "    val_data_path = 'val_set_{}.txt'.format(target_domain[1:-1])\n",
    "    for j, item in enumerate(source_domain):\n",
    "        \n",
    "        #print('j:{} and source_domains:{}'.format(j,item))\n",
    "        data_pth = os.path.join(data_root, source_domain[j]+'/')\n",
    "        #print('data_pth : ', data_pth)\n",
    "        classes, class_to_idx = find_classes(data_pth)\n",
    "        #print('classes:{} and class_to_idx :{} '.format(classes, class_to_idx))\n",
    "        samples = make_dataset(data_pth, class_to_idx, IMG_EXTENSIONS)\n",
    "        total_samples.extend(samples)\n",
    "        #print(total_samples[0])\n",
    "    \n",
    "    images_list=[sample[0]for sample in total_samples]\n",
    "    k = int(np.ceil(len(images_list)*0.1))\n",
    "    #print('k', k)\n",
    "    np.random.seed(1)\n",
    "    val_set = random.sample(images_list, k)\n",
    "    with open(val_data_path, 'w') as f:\n",
    "        for item in val_set:\n",
    "            f.write(\"%s\\n\"%item)\n",
    "    #print('length of val_set :', len(val_set))\n",
    "    #print(val_set[0])\n",
    "    \n",
    "    \n",
    "            \n",
    "    \n",
    "    \n",
    "    "
   ]
  },
  {
   "cell_type": "code",
   "execution_count": null,
   "metadata": {},
   "outputs": [],
   "source": []
  }
 ],
 "metadata": {
  "kernelspec": {
   "display_name": "Python 3",
   "language": "python",
   "name": "python3"
  },
  "language_info": {
   "codemirror_mode": {
    "name": "ipython",
    "version": 3
   },
   "file_extension": ".py",
   "mimetype": "text/x-python",
   "name": "python",
   "nbconvert_exporter": "python",
   "pygments_lexer": "ipython3",
   "version": "3.8.3"
  }
 },
 "nbformat": 4,
 "nbformat_minor": 4
}
